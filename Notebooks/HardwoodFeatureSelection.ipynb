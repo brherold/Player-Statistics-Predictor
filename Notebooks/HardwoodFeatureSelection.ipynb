{
  "cells": [
    {
      "cell_type": "code",
      "execution_count": 187,
      "metadata": {
        "colab": {
          "base_uri": "https://localhost:8080/"
        },
        "id": "1lgRBYYdsLd9",
        "outputId": "4c5dd9a2-04f8-4569-bb98-141c85f283af"
      },
      "outputs": [
        {
          "data": {
            "text/plain": [
              "Index(['Weight', 'IS', 'OS', 'Rng', 'Fin', 'Reb', 'IDef', 'PDef', 'IQ', 'Pass',\n",
              "       'Hnd', 'Drv', 'Str', 'Spd', 'Sta', 'F-M', 'F-A', 'F%', 'IS-M', 'IS-A',\n",
              "       'IS%', 'MR-M', 'MR-A', 'MR%', '3P-M', '3P-A', '3P%', 'DR-M', 'DR-A',\n",
              "       'DR%', 'FTM', 'FTA', 'FT%', 'RebP', 'Ast', 'Stl', 'Blk', '2OFM', '2OFA',\n",
              "       '2OF%', '3OFM', '3OFA', '3OF%', 'TO', 'PF', 'DQ', 'FD',\n",
              "       'Wingspan_inches', 'Height_inches', 'Vertical_float'],\n",
              "      dtype='object')"
            ]
          },
          "execution_count": 187,
          "metadata": {},
          "output_type": "execute_result"
        }
      ],
      "source": [
        "import pandas as pd\n",
        "import numpy as np\n",
        "import matplotlib as mpl\n",
        "import matplotlib.pyplot as plt\n",
        "import seaborn as sns; sns.set()\n",
        "\n",
        "from sklearn.model_selection import train_test_split, GridSearchCV\n",
        "from sklearn.preprocessing import OneHotEncoder\n",
        "from sklearn.preprocessing import StandardScaler\n",
        "from sklearn.pipeline import make_pipeline\n",
        "from sklearn.model_selection import GridSearchCV,cross_val_score, KFold\n",
        "\n",
        "\n",
        "from sklearn.linear_model import LinearRegression\n",
        "from sklearn.linear_model import Ridge, Lasso\n",
        "from sklearn.tree import DecisionTreeRegressor\n",
        "from sklearn.ensemble import RandomForestRegressor\n",
        "from sklearn.svm import SVR\n",
        "\n",
        "from sklearn.metrics import mean_squared_error, mean_absolute_error, r2_score\n",
        "\n",
        "\n",
        "df = pd.read_csv(\"DataCSVS/cleanedPlayerData41-42.csv\", encoding='latin1')\n",
        "\n",
        "\n",
        "df.head()\n",
        "\n",
        "\n",
        "\n",
        "df.columns"
      ]
    },
    {
      "cell_type": "code",
      "execution_count": 188,
      "metadata": {
        "id": "sq4dLyaxspdW"
      },
      "outputs": [
        {
          "name": "stdout",
          "output_type": "stream",
          "text": [
            "(2418, 19)\n"
          ]
        }
      ],
      "source": [
        "\n",
        "df = df[df['2OFA'] >= 0.7 * (df['2OFA'] + df['3OFA'])] #For Bigs\n",
        "#df = df[df['3OFA'] >= 0.4 * (df['2OFA'] + df['3OFA'])] #For Guards\n",
        "\n",
        "df = df[df['2OFA'] >= 100] #Filters for players who play a decent amount per game\n",
        "columns_to_drop = ['F-M', 'F-A', 'F%','IS-M', 'IS-A', 'IS%',\n",
        "        'MR-M', 'MR-A', 'MR%', '3P-M', '3P-A', '3P%', 'DR-M', 'DR-A',\n",
        "       'DR%', 'FTM', 'FTA', 'FT%', 'RebP', 'Ast', 'Blk', '2OFM', '2OFA', '2OF%',\n",
        "        '3OFM', '3OFA', '3OF%', 'TO', 'PF', 'DQ', 'FD']\n",
        "\n",
        "\n",
        "\n",
        "df = df.drop(columns_to_drop,axis=1)\n",
        "\n",
        "\n",
        "print(df.shape)\n",
        "\n",
        "data = df\n",
        "X = data.drop('Stl', axis=1)\n",
        "y = data['Stl']\n",
        "X_train, X_test, y_train, y_test = train_test_split(X, y, test_size=0.2, random_state=42)\n"
      ]
    },
    {
      "cell_type": "code",
      "execution_count": 189,
      "metadata": {
        "colab": {
          "base_uri": "https://localhost:8080/"
        },
        "id": "3IDSdOgHtlMP",
        "outputId": "aa4a0a97-f38c-48cc-8e16-b924157d39fd"
      },
      "outputs": [
        {
          "name": "stdout",
          "output_type": "stream",
          "text": [
            "Selected features: Index(['IDef', 'IQ', 'Str', 'Spd', 'Sta'], dtype='object')\n"
          ]
        }
      ],
      "source": [
        "from sklearn.feature_selection import RFE\n",
        "\n",
        "# RFE with Random Forest\n",
        "rfe = RFE(estimator=Ridge(), n_features_to_select=5)\n",
        "rfe.fit(X_train, y_train)\n",
        "\n",
        "# Selected features\n",
        "selected_features = X_train.columns[rfe.support_]\n",
        "print(\"Selected features:\", selected_features)\n"
      ]
    },
    {
      "cell_type": "code",
      "execution_count": 190,
      "metadata": {
        "colab": {
          "base_uri": "https://localhost:8080/"
        },
        "id": "5uVhbwyYvkQI",
        "outputId": "edc94e6b-bfd8-4bec-df57-722515a58170"
      },
      "outputs": [
        {
          "name": "stdout",
          "output_type": "stream",
          "text": [
            "R2 Score: 0.33929105739662624\n"
          ]
        }
      ],
      "source": [
        "# Transform the training and testing sets\n",
        "X_train_selected = X_train[selected_features]\n",
        "X_test_selected = X_test[selected_features]\n",
        "\n",
        "#Ridge Regression is best model\n",
        "\n",
        "model = Ridge()\n",
        "pipeline = make_pipeline(StandardScaler(), model)\n",
        "\n",
        "# Hyperparameter Tuning with Grid Search\n",
        "param_grid = {'ridge__alpha': [0.1, 1.0, 10.0, 100.0]}\n",
        "grid_search = GridSearchCV(pipeline, param_grid, cv=5, scoring='neg_mean_squared_error')\n",
        "grid_search.fit(X_train_selected, y_train)\n",
        "best_model = grid_search.best_estimator_\n",
        "\n",
        "best_model.fit(X_train_selected, y_train)\n",
        "y_pred = best_model.predict(X_test_selected)\n",
        "\n",
        "'''\n",
        "pipeline.fit(X_train_selected, y_train)\n",
        "y_pred = pipeline.predict(X_test_selected)\n",
        "'''\n",
        "# Evaluate the model\n",
        "r2 = r2_score(y_test, y_pred)\n",
        "print(f'R2 Score: {r2}')\n",
        "\n",
        "\n",
        "\n"
      ]
    },
    {
      "cell_type": "code",
      "execution_count": 191,
      "metadata": {
        "colab": {
          "base_uri": "https://localhost:8080/"
        },
        "id": "fkW-PvI5whWi",
        "outputId": "0f9d7b6a-5dac-499a-cb1e-ab1d6d0c013c"
      },
      "outputs": [
        {
          "name": "stdout",
          "output_type": "stream",
          "text": [
            "   Weight  IS  OS  Rng  Fin  Reb  IDef  PDef  IQ  Pass  Hnd  Drv  Str  Spd  \\\n",
            "0     235   0   3    8    1    8     3     3   6     3    4    2    3    1   \n",
            "1     190   8  14   14   13   16    13    10   8     6    5    8   17    6   \n",
            "2     230   9   7    7    8   11     8     4   4     8    5    5    6    5   \n",
            "3     225  16  14   12    7   12     7    12  12     7   11    8   15   18   \n",
            "4     255   7  11    7    5   11     4     8  15     3    7    9   13   10   \n",
            "\n",
            "   Sta  Wingspan_inches  Height_inches  Vertical_float  Actual  Predicted  \n",
            "0    2             85.0           79.5            30.5     0.1  -0.080233  \n",
            "1   13             79.0           76.5            30.5     0.4   0.869869  \n",
            "2    5             89.0           82.5            29.0     0.1   0.270397  \n",
            "3    9             82.0           78.0            30.5     0.9   0.941759  \n",
            "4    6             91.0           82.0            29.0     0.8   0.591969  \n"
          ]
        }
      ],
      "source": [
        "\n",
        "import pandas as pd\n",
        "\n",
        "# Create a DataFrame with actual and predicted values\n",
        "results = pd.DataFrame({\n",
        "    'Actual': y_test,\n",
        "    'Predicted': y_pred\n",
        "})\n",
        "\n",
        "# Optionally, you can reset the index to make it easier to read\n",
        "results = results.reset_index(drop=True)\n",
        "\n",
        "# Display the DataFrame\n",
        "#print(results.head())  # Shows the first few rows of the DataFrame\n",
        "\n",
        "# Create a DataFrame with actual features from X_test\n",
        "results = pd.DataFrame(X_test)\n",
        "\n",
        "# Add actual and predicted values to this DataFrame\n",
        "results['Actual'] = y_test\n",
        "results['Predicted'] = y_pred\n",
        "\n",
        "# Reset the index to align the actual and predicted values with their corresponding features\n",
        "results = results.reset_index(drop=True)\n",
        "\n",
        "# Display the DataFrame\n",
        "print(results.head())  # Shows the first few rows of the DataFrame\n",
        "\n",
        "\n",
        "\n",
        "\n"
      ]
    },
    {
      "cell_type": "code",
      "execution_count": null,
      "metadata": {
        "id": "MWKIUltCzrLj"
      },
      "outputs": [],
      "source": []
    },
    {
      "cell_type": "code",
      "execution_count": 192,
      "metadata": {
        "colab": {
          "base_uri": "https://localhost:8080/",
          "height": 370
        },
        "id": "9ICQfSzxw_nP",
        "outputId": "9be43f66-f788-4bf2-db52-2d742af8c10c"
      },
      "outputs": [
        {
          "name": "stdout",
          "output_type": "stream",
          "text": [
            "1.03\n"
          ]
        }
      ],
      "source": [
        "# Code that Finds a player based on their PLayer Code and Returns their skills (uses bs4)\n",
        "\n",
        "from pygetPlayerSkills import get_player_info\n",
        "\n",
        "player  = get_player_info(\"http://onlinecollegebasketball.org/player/178675\")\n",
        "\n",
        "new_data_df = pd.DataFrame([player])\n",
        "\n",
        "# Select only the features that were used for training\n",
        "new_data_selected = new_data_df[selected_features]\n",
        "\n",
        "'''\n",
        "# Predict using the model pipeline\n",
        "new_data_pred = pipeline.predict(new_data_selected)\n",
        "'''\n",
        "new_data_pred = best_model.predict(new_data_selected)\n",
        "\n",
        "# Print the predictions\n",
        "print(format(new_data_pred[0],\".2f\"))\n",
        "\n",
        "\n"
      ]
    }
  ],
  "metadata": {
    "colab": {
      "provenance": []
    },
    "kernelspec": {
      "display_name": "Python 3",
      "name": "python3"
    },
    "language_info": {
      "codemirror_mode": {
        "name": "ipython",
        "version": 3
      },
      "file_extension": ".py",
      "mimetype": "text/x-python",
      "name": "python",
      "nbconvert_exporter": "python",
      "pygments_lexer": "ipython3",
      "version": "3.10.11"
    }
  },
  "nbformat": 4,
  "nbformat_minor": 0
}
