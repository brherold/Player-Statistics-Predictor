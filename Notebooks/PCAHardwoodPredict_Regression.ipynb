{
  "cells": [
    {
      "cell_type": "code",
      "execution_count": 26,
      "metadata": {
        "colab": {
          "base_uri": "https://localhost:8080/",
          "height": 255
        },
        "id": "1hvLSjaLYRmn",
        "outputId": "e450e603-b378-4bb5-a295-042f663e8267"
      },
      "outputs": [
        {
          "data": {
            "text/html": [
              "<div>\n",
              "<style scoped>\n",
              "    .dataframe tbody tr th:only-of-type {\n",
              "        vertical-align: middle;\n",
              "    }\n",
              "\n",
              "    .dataframe tbody tr th {\n",
              "        vertical-align: top;\n",
              "    }\n",
              "\n",
              "    .dataframe thead th {\n",
              "        text-align: right;\n",
              "    }\n",
              "</style>\n",
              "<table border=\"1\" class=\"dataframe\">\n",
              "  <thead>\n",
              "    <tr style=\"text-align: right;\">\n",
              "      <th></th>\n",
              "      <th>Weight</th>\n",
              "      <th>IS</th>\n",
              "      <th>OS</th>\n",
              "      <th>Rng</th>\n",
              "      <th>Fin</th>\n",
              "      <th>Reb</th>\n",
              "      <th>IDef</th>\n",
              "      <th>PDef</th>\n",
              "      <th>IQ</th>\n",
              "      <th>Pass</th>\n",
              "      <th>...</th>\n",
              "      <th>3OFM</th>\n",
              "      <th>3OFA</th>\n",
              "      <th>3OF%</th>\n",
              "      <th>TO</th>\n",
              "      <th>PF</th>\n",
              "      <th>DQ</th>\n",
              "      <th>FD</th>\n",
              "      <th>Wingspan_inches</th>\n",
              "      <th>Height_inches</th>\n",
              "      <th>Vertical_float</th>\n",
              "    </tr>\n",
              "  </thead>\n",
              "  <tbody>\n",
              "    <tr>\n",
              "      <th>0</th>\n",
              "      <td>155</td>\n",
              "      <td>9</td>\n",
              "      <td>6</td>\n",
              "      <td>9</td>\n",
              "      <td>5</td>\n",
              "      <td>4</td>\n",
              "      <td>6</td>\n",
              "      <td>14</td>\n",
              "      <td>15</td>\n",
              "      <td>16</td>\n",
              "      <td>...</td>\n",
              "      <td>28</td>\n",
              "      <td>66</td>\n",
              "      <td>0.424</td>\n",
              "      <td>1.9</td>\n",
              "      <td>1.3</td>\n",
              "      <td>0.0</td>\n",
              "      <td>1.4</td>\n",
              "      <td>72.0</td>\n",
              "      <td>68.0</td>\n",
              "      <td>24.5</td>\n",
              "    </tr>\n",
              "    <tr>\n",
              "      <th>1</th>\n",
              "      <td>190</td>\n",
              "      <td>8</td>\n",
              "      <td>6</td>\n",
              "      <td>7</td>\n",
              "      <td>12</td>\n",
              "      <td>10</td>\n",
              "      <td>8</td>\n",
              "      <td>11</td>\n",
              "      <td>16</td>\n",
              "      <td>17</td>\n",
              "      <td>...</td>\n",
              "      <td>57</td>\n",
              "      <td>156</td>\n",
              "      <td>0.365</td>\n",
              "      <td>4.1</td>\n",
              "      <td>2.3</td>\n",
              "      <td>2.0</td>\n",
              "      <td>1.8</td>\n",
              "      <td>78.0</td>\n",
              "      <td>73.0</td>\n",
              "      <td>29.5</td>\n",
              "    </tr>\n",
              "    <tr>\n",
              "      <th>2</th>\n",
              "      <td>180</td>\n",
              "      <td>6</td>\n",
              "      <td>17</td>\n",
              "      <td>12</td>\n",
              "      <td>9</td>\n",
              "      <td>10</td>\n",
              "      <td>7</td>\n",
              "      <td>15</td>\n",
              "      <td>17</td>\n",
              "      <td>10</td>\n",
              "      <td>...</td>\n",
              "      <td>96</td>\n",
              "      <td>215</td>\n",
              "      <td>0.447</td>\n",
              "      <td>1.9</td>\n",
              "      <td>1.6</td>\n",
              "      <td>1.0</td>\n",
              "      <td>1.6</td>\n",
              "      <td>74.0</td>\n",
              "      <td>73.0</td>\n",
              "      <td>29.5</td>\n",
              "    </tr>\n",
              "    <tr>\n",
              "      <th>3</th>\n",
              "      <td>210</td>\n",
              "      <td>7</td>\n",
              "      <td>9</td>\n",
              "      <td>11</td>\n",
              "      <td>9</td>\n",
              "      <td>11</td>\n",
              "      <td>8</td>\n",
              "      <td>10</td>\n",
              "      <td>16</td>\n",
              "      <td>12</td>\n",
              "      <td>...</td>\n",
              "      <td>48</td>\n",
              "      <td>99</td>\n",
              "      <td>0.485</td>\n",
              "      <td>1.1</td>\n",
              "      <td>1.0</td>\n",
              "      <td>0.0</td>\n",
              "      <td>0.9</td>\n",
              "      <td>80.0</td>\n",
              "      <td>75.0</td>\n",
              "      <td>31.5</td>\n",
              "    </tr>\n",
              "    <tr>\n",
              "      <th>4</th>\n",
              "      <td>210</td>\n",
              "      <td>15</td>\n",
              "      <td>10</td>\n",
              "      <td>10</td>\n",
              "      <td>9</td>\n",
              "      <td>10</td>\n",
              "      <td>13</td>\n",
              "      <td>11</td>\n",
              "      <td>17</td>\n",
              "      <td>10</td>\n",
              "      <td>...</td>\n",
              "      <td>44</td>\n",
              "      <td>117</td>\n",
              "      <td>0.376</td>\n",
              "      <td>1.6</td>\n",
              "      <td>1.9</td>\n",
              "      <td>1.0</td>\n",
              "      <td>2.1</td>\n",
              "      <td>86.0</td>\n",
              "      <td>81.0</td>\n",
              "      <td>31.0</td>\n",
              "    </tr>\n",
              "  </tbody>\n",
              "</table>\n",
              "<p>5 rows × 50 columns</p>\n",
              "</div>"
            ],
            "text/plain": [
              "   Weight  IS  OS  Rng  Fin  Reb  IDef  PDef  IQ  Pass  ...  3OFM  3OFA  \\\n",
              "0     155   9   6    9    5    4     6    14  15    16  ...    28    66   \n",
              "1     190   8   6    7   12   10     8    11  16    17  ...    57   156   \n",
              "2     180   6  17   12    9   10     7    15  17    10  ...    96   215   \n",
              "3     210   7   9   11    9   11     8    10  16    12  ...    48    99   \n",
              "4     210  15  10   10    9   10    13    11  17    10  ...    44   117   \n",
              "\n",
              "    3OF%   TO   PF   DQ   FD  Wingspan_inches  Height_inches  Vertical_float  \n",
              "0  0.424  1.9  1.3  0.0  1.4             72.0           68.0            24.5  \n",
              "1  0.365  4.1  2.3  2.0  1.8             78.0           73.0            29.5  \n",
              "2  0.447  1.9  1.6  1.0  1.6             74.0           73.0            29.5  \n",
              "3  0.485  1.1  1.0  0.0  0.9             80.0           75.0            31.5  \n",
              "4  0.376  1.6  1.9  1.0  2.1             86.0           81.0            31.0  \n",
              "\n",
              "[5 rows x 50 columns]"
            ]
          },
          "execution_count": 26,
          "metadata": {},
          "output_type": "execute_result"
        }
      ],
      "source": [
        "import pandas as pd\n",
        "import numpy as np\n",
        "import matplotlib as mpl\n",
        "import matplotlib.pyplot as plt\n",
        "import seaborn as sns; sns.set()\n",
        "\n",
        "from sklearn.model_selection import train_test_split, GridSearchCV\n",
        "from sklearn.preprocessing import OneHotEncoder\n",
        "from sklearn.preprocessing import StandardScaler\n",
        "from sklearn.pipeline import make_pipeline\n",
        "\n",
        "\n",
        "from sklearn.linear_model import LinearRegression\n",
        "from sklearn.linear_model import Ridge, Lasso\n",
        "from sklearn.tree import DecisionTreeRegressor\n",
        "from sklearn.ensemble import RandomForestRegressor\n",
        "from sklearn.svm import SVR\n",
        "from sklearn.decomposition import PCA\n",
        "\n",
        "\n",
        "from sklearn.metrics import mean_squared_error, mean_absolute_error, r2_score\n",
        "\n",
        "\n",
        "df = pd.read_csv(\"DataCSVS/cleanedPlayerData41-42.csv\", encoding='latin1')\n",
        "\n",
        "\n",
        "df.head()\n",
        "\n",
        "\n",
        "\n",
        "\n"
      ]
    },
    {
      "cell_type": "code",
      "execution_count": 27,
      "metadata": {
        "colab": {
          "base_uri": "https://localhost:8080/"
        },
        "id": "pAUuyKP2N319",
        "outputId": "9212adc9-1391-4a21-a95e-b088e955fd30"
      },
      "outputs": [
        {
          "data": {
            "text/plain": [
              "Index(['Weight', 'IS', 'OS', 'Rng', 'Fin', 'Reb', 'IDef', 'PDef', 'IQ', 'Pass',\n",
              "       'Hnd', 'Drv', 'Str', 'Spd', 'Sta', 'F-M', 'F-A', 'F%', 'IS-M', 'IS-A',\n",
              "       'IS%', 'MR-M', 'MR-A', 'MR%', '3P-M', '3P-A', '3P%', 'DR-M', 'DR-A',\n",
              "       'DR%', 'FTM', 'FTA', 'FT%', 'RebP', 'Ast', 'Stl', 'Blk', '2OFM', '2OFA',\n",
              "       '2OF%', '3OFM', '3OFA', '3OF%', 'TO', 'PF', 'DQ', 'FD',\n",
              "       'Wingspan_inches', 'Height_inches', 'Vertical_float'],\n",
              "      dtype='object')"
            ]
          },
          "execution_count": 27,
          "metadata": {},
          "output_type": "execute_result"
        }
      ],
      "source": [
        "df.columns"
      ]
    },
    {
      "cell_type": "markdown",
      "metadata": {
        "id": "7utZXEZqNg1k"
      },
      "source": [
        "Driving"
      ]
    },
    {
      "cell_type": "code",
      "execution_count": 28,
      "metadata": {
        "colab": {
          "base_uri": "https://localhost:8080/",
          "height": 164
        },
        "id": "ySpkf1bhNf9j",
        "outputId": "0fce73a5-315a-4231-f8ed-724463977bce"
      },
      "outputs": [
        {
          "data": {
            "text/plain": [
              "\"\\n\\n#df = df[df['3OFA'] >= 0.4 * (df['2OFA'] + df['3OFA'])] #For Guards\\ndf = df[(df['DR-A'] >= 75)] #attempted ~ 2 3PA a game\\n\\n\\ncolumns_to_drop = ['F-M', 'F-A', 'F%', 'IS-M', 'IS-A',\\n       'IS%', 'MR-M', 'MR-A', 'MR%', '3P-M', '3P-A', '3P%','DR-M', 'DR-A',\\n        'FTM', 'FTA', 'FT%', 'RebP', 'Ast', 'Stl', 'Blk', '2OFM', '2OFA',\\n       '2OF%', '3OFM', '3OFA', '3OF%', 'TO', 'PF', 'DQ', 'FD']\\n\\n\\n\\ndf = df.drop(columns_to_drop,axis=1)\\n\\n\\nprint(df.shape)\\n\\ndata = df\\nX = data.drop('DR%', axis=1)\\ny = data['DR%']\\nX_train, X_test, y_train, y_test = train_test_split(X, y, test_size=0.2, random_state=42)\\n\""
            ]
          },
          "execution_count": 28,
          "metadata": {},
          "output_type": "execute_result"
        }
      ],
      "source": [
        "\n",
        "'''\n",
        "\n",
        "#df = df[df['3OFA'] >= 0.4 * (df['2OFA'] + df['3OFA'])] #For Guards\n",
        "df = df[(df['DR-A'] >= 75)] #attempted ~ 2 3PA a game\n",
        "\n",
        "\n",
        "columns_to_drop = ['F-M', 'F-A', 'F%', 'IS-M', 'IS-A',\n",
        "       'IS%', 'MR-M', 'MR-A', 'MR%', '3P-M', '3P-A', '3P%','DR-M', 'DR-A',\n",
        "        'FTM', 'FTA', 'FT%', 'RebP', 'Ast', 'Stl', 'Blk', '2OFM', '2OFA',\n",
        "       '2OF%', '3OFM', '3OFA', '3OF%', 'TO', 'PF', 'DQ', 'FD']\n",
        "\n",
        "\n",
        "\n",
        "df = df.drop(columns_to_drop,axis=1)\n",
        "\n",
        "\n",
        "print(df.shape)\n",
        "\n",
        "data = df\n",
        "X = data.drop('DR%', axis=1)\n",
        "y = data['DR%']\n",
        "X_train, X_test, y_train, y_test = train_test_split(X, y, test_size=0.2, random_state=42)\n",
        "'''\n"
      ]
    },
    {
      "cell_type": "markdown",
      "metadata": {
        "id": "ShO3uIC0NbPY"
      },
      "source": [
        "3pt Shooting"
      ]
    },
    {
      "cell_type": "code",
      "execution_count": 29,
      "metadata": {
        "colab": {
          "base_uri": "https://localhost:8080/",
          "height": 145
        },
        "id": "0H4QyTPpaQcN",
        "outputId": "3ef4993a-3b11-49e1-ce60-b2482c5cbb09"
      },
      "outputs": [
        {
          "data": {
            "text/plain": [
              "\"\\n#columns_to_drop = ['F-M']\\ndf = df[(df['3P-A'] >= 100)] #attempted ~ 2 3PA a game\\n#df = df[df['2OFA'] >= 100]\\n\\n\\ncolumns_to_drop = ['F-M', 'F-A', 'F%', 'IS-M', 'IS-A',\\n       'IS%', 'MR-M', 'MR-A', 'MR%', '3P-M', '3P-A', 'DR-M', 'DR-A',\\n       'DR%', 'FTM', 'FTA', 'FT%', 'RebP', 'Ast', 'Stl', 'Blk', '2OFM', '2OFA',\\n       '2OF%', '3OFM', '3OFA', '3OF%', 'TO', 'PF', 'DQ', 'FD']\\n\\n\\n\\ndf = df.drop(columns_to_drop,axis=1)\\n\\n\\nprint(df.shape)\\n\\ndata = df\\nX = data.drop('3P%', axis=1)\\ny = data['3P%']\\nX_train, X_test, y_train, y_test = train_test_split(X, y, test_size=0.2, random_state=42)\\n\\n\""
            ]
          },
          "execution_count": 29,
          "metadata": {},
          "output_type": "execute_result"
        }
      ],
      "source": [
        "'''\n",
        "#columns_to_drop = ['F-M']\n",
        "df = df[(df['3P-A'] >= 100)] #attempted ~ 2 3PA a game\n",
        "#df = df[df['2OFA'] >= 100]\n",
        "\n",
        "\n",
        "columns_to_drop = ['F-M', 'F-A', 'F%', 'IS-M', 'IS-A',\n",
        "       'IS%', 'MR-M', 'MR-A', 'MR%', '3P-M', '3P-A', 'DR-M', 'DR-A',\n",
        "       'DR%', 'FTM', 'FTA', 'FT%', 'RebP', 'Ast', 'Stl', 'Blk', '2OFM', '2OFA',\n",
        "       '2OF%', '3OFM', '3OFA', '3OF%', 'TO', 'PF', 'DQ', 'FD']\n",
        "\n",
        "\n",
        "\n",
        "df = df.drop(columns_to_drop,axis=1)\n",
        "\n",
        "\n",
        "print(df.shape)\n",
        "\n",
        "data = df\n",
        "X = data.drop('3P%', axis=1)\n",
        "y = data['3P%']\n",
        "X_train, X_test, y_train, y_test = train_test_split(X, y, test_size=0.2, random_state=42)\n",
        "\n",
        "'''"
      ]
    },
    {
      "cell_type": "markdown",
      "metadata": {
        "id": "qp683EzrehNH"
      },
      "source": [
        "Inside Shooting"
      ]
    },
    {
      "cell_type": "code",
      "execution_count": 30,
      "metadata": {
        "colab": {
          "base_uri": "https://localhost:8080/",
          "height": 164
        },
        "id": "23Zl7mENfVVT",
        "outputId": "3a0aa3c8-4a4e-4767-9f0b-6ac8c9351493"
      },
      "outputs": [
        {
          "name": "stdout",
          "output_type": "stream",
          "text": [
            "(2076, 19)\n"
          ]
        }
      ],
      "source": [
        "\n",
        "'''\n",
        "df = df[(df['IS-A'] >= 100)] #attempted ~ 2 ISPA a game\n",
        "\n",
        "df = df[df['2OFA'] >= 0.7 * (df['2OFA'] + df['3OFA'])] #For Bigs\n",
        "\n",
        "#df = df[df['3OFA'] >= 0.4 * (df['2OFA'] + df['3OFA'])] #For Guards\n",
        "#df = df[(df['IS-A'] >= 50)] #attempted ~ 2 ISPA a gam\n",
        "\n",
        "columns_to_drop = ['F-M', 'F-A', 'F%', 'IS-M', 'IS-A',\n",
        "        'MR-M', 'MR-A', 'MR%', '3P-M', '3P-A', '3P%', 'DR-M', 'DR-A',\n",
        "       'DR%', 'FTM', 'FTA', 'FT%', 'RebP', 'Ast', 'Stl', 'Blk', '2OFM', '2OFA',\n",
        "       '2OF%', '3OFM', '3OFA', '3OF%', 'TO', 'PF', 'DQ', 'FD']\n",
        "\n",
        "\n",
        "\n",
        "df = df.drop(columns_to_drop,axis=1)\n",
        "\n",
        "\n",
        "print(df.shape)\n",
        "\n",
        "data = df\n",
        "X = data.drop('IS%', axis=1)\n",
        "y = data['IS%']\n",
        "X_train, X_test, y_train, y_test = train_test_split(X, y, test_size=0.2, random_state=42)\n",
        "'''"
      ]
    },
    {
      "cell_type": "markdown",
      "metadata": {
        "id": "MnUOP2GKhHD4"
      },
      "source": [
        "Finishing"
      ]
    },
    {
      "cell_type": "code",
      "execution_count": 31,
      "metadata": {
        "colab": {
          "base_uri": "https://localhost:8080/",
          "height": 145
        },
        "id": "V3-DMJk1gYtX",
        "outputId": "6d601803-74eb-44e4-ae8d-c8802d16cd4b"
      },
      "outputs": [
        {
          "data": {
            "text/plain": [
              "\"\\ndf = df[(df['F-A'] >= 30)] #attempted ~ 2 3PA a game\\n\\n\\n\\n\\ncolumns_to_drop = ['F-M', 'F-A', 'IS-M', 'IS-A', 'IS%',\\n        'MR-M', 'MR-A', 'MR%', '3P-M', '3P-A', '3P%', 'DR-M', 'DR-A',\\n       'DR%', 'FTM', 'FTA', 'FT%', 'RebP', 'Ast', 'Stl', 'Blk', '2OFM', '2OFA',\\n       '2OF%', '3OFM', '3OFA', '3OF%', 'TO', 'PF', 'DQ', 'FD']\\n\\n\\n\\ndf = df.drop(columns_to_drop,axis=1)\\n\\n\\nprint(df.shape)\\n\\ndata = df\\nX = data.drop('F%', axis=1)\\ny = data['F%']\\nX_train, X_test, y_train, y_test = train_test_split(X, y, test_size=0.2, random_state=42)\\n\""
            ]
          },
          "execution_count": 31,
          "metadata": {},
          "output_type": "execute_result"
        }
      ],
      "source": [
        "'''\n",
        "df = df[(df['F-A'] >= 30)] #attempted ~ 2 3PA a game\n",
        "\n",
        "\n",
        "\n",
        "\n",
        "columns_to_drop = ['F-M', 'F-A', 'IS-M', 'IS-A', 'IS%',\n",
        "        'MR-M', 'MR-A', 'MR%', '3P-M', '3P-A', '3P%', 'DR-M', 'DR-A',\n",
        "       'DR%', 'FTM', 'FTA', 'FT%', 'RebP', 'Ast', 'Stl', 'Blk', '2OFM', '2OFA',\n",
        "       '2OF%', '3OFM', '3OFA', '3OF%', 'TO', 'PF', 'DQ', 'FD']\n",
        "\n",
        "\n",
        "\n",
        "df = df.drop(columns_to_drop,axis=1)\n",
        "\n",
        "\n",
        "print(df.shape)\n",
        "\n",
        "data = df\n",
        "X = data.drop('F%', axis=1)\n",
        "y = data['F%']\n",
        "X_train, X_test, y_train, y_test = train_test_split(X, y, test_size=0.2, random_state=42)\n",
        "'''"
      ]
    },
    {
      "cell_type": "markdown",
      "metadata": {
        "id": "CltBebMfh-0U"
      },
      "source": [
        "Mid-Range"
      ]
    },
    {
      "cell_type": "code",
      "execution_count": 32,
      "metadata": {
        "colab": {
          "base_uri": "https://localhost:8080/",
          "height": 145
        },
        "id": "5FXLKD72hK0r",
        "outputId": "0823a6e0-beac-4ad0-f800-689bfc8158cc"
      },
      "outputs": [
        {
          "data": {
            "text/plain": [
              "\"\\ndf = df[df['MR-A'] >= 70]\\ndf = df[df['2OFA'] >= 100]\\n\\ncolumns_to_drop = ['F-M', 'F-A', 'F%','IS-M', 'IS-A', 'IS%',\\n        'MR-M', 'MR-A', '3P-M', '3P-A', '3P%', 'DR-M', 'DR-A',\\n       'DR%', 'FTM', 'FTA', 'FT%', 'RebP', 'Ast', 'Stl', 'Blk', '2OFM', '2OFA',\\n       '2OF%', '3OFM', '3OFA', '3OF%', 'TO', 'PF', 'DQ', 'FD']\\n\\n\\n\\ndf = df.drop(columns_to_drop,axis=1)\\nprint(df.shape)\\n\\n\\ndata = df\\nX = data.drop('MR%', axis=1)\\ny = data['MR%']\\nX_train, X_test, y_train, y_test = train_test_split(X, y, test_size=0.2, random_state=42)\\n\""
            ]
          },
          "execution_count": 32,
          "metadata": {},
          "output_type": "execute_result"
        }
      ],
      "source": [
        "'''\n",
        "df = df[df['MR-A'] >= 70]\n",
        "df = df[df['2OFA'] >= 100]\n",
        "\n",
        "columns_to_drop = ['F-M', 'F-A', 'F%','IS-M', 'IS-A', 'IS%',\n",
        "        'MR-M', 'MR-A', '3P-M', '3P-A', '3P%', 'DR-M', 'DR-A',\n",
        "       'DR%', 'FTM', 'FTA', 'FT%', 'RebP', 'Ast', 'Stl', 'Blk', '2OFM', '2OFA',\n",
        "       '2OF%', '3OFM', '3OFA', '3OF%', 'TO', 'PF', 'DQ', 'FD']\n",
        "\n",
        "\n",
        "\n",
        "df = df.drop(columns_to_drop,axis=1)\n",
        "print(df.shape)\n",
        "\n",
        "\n",
        "data = df\n",
        "X = data.drop('MR%', axis=1)\n",
        "y = data['MR%']\n",
        "X_train, X_test, y_train, y_test = train_test_split(X, y, test_size=0.2, random_state=42)\n",
        "'''"
      ]
    },
    {
      "cell_type": "markdown",
      "metadata": {
        "id": "4zASpCvM99VM"
      },
      "source": [
        "FT%"
      ]
    },
    {
      "cell_type": "code",
      "execution_count": 33,
      "metadata": {
        "colab": {
          "base_uri": "https://localhost:8080/",
          "height": 145
        },
        "id": "IKfqftLu-AIE",
        "outputId": "0c11a7cb-47b1-429a-d393-fccbf7e44774"
      },
      "outputs": [
        {
          "data": {
            "text/plain": [
              "\"\\ndf = df[(df['FTA'] >= 95)] #attempted ~ 2 3PA a game\\n\\ncolumns_to_drop = ['F-M', 'F-A', 'F%','IS-M', 'IS-A', 'IS%',\\n        'MR-M', 'MR-A', 'MR%', '3P-M', '3P-A', '3P%', 'DR-M', 'DR-A',\\n       'DR%', 'FTM', 'FTA', 'RebP', 'Ast', 'Stl', 'Blk', '2OFM', '2OFA',\\n       '2OF%', '3OFM', '3OFA', '3OF%', 'TO', 'PF', 'DQ', 'FD']\\n\\n\\n\\ndf = df.drop(columns_to_drop,axis=1)\\n\\n\\nprint(df.shape)\\n\\ndata = df\\nX = data.drop('FT%', axis=1)\\ny = data['FT%']\\nX_train, X_test, y_train, y_test = train_test_split(X, y, test_size=0.2, random_state=42)\\n\""
            ]
          },
          "execution_count": 33,
          "metadata": {},
          "output_type": "execute_result"
        }
      ],
      "source": [
        "'''\n",
        "df = df[(df['FTA'] >= 95)] #attempted ~ 2 3PA a game\n",
        "\n",
        "columns_to_drop = ['F-M', 'F-A', 'F%','IS-M', 'IS-A', 'IS%',\n",
        "        'MR-M', 'MR-A', 'MR%', '3P-M', '3P-A', '3P%', 'DR-M', 'DR-A',\n",
        "       'DR%', 'FTM', 'FTA', 'RebP', 'Ast', 'Stl', 'Blk', '2OFM', '2OFA',\n",
        "       '2OF%', '3OFM', '3OFA', '3OF%', 'TO', 'PF', 'DQ', 'FD']\n",
        "\n",
        "\n",
        "\n",
        "df = df.drop(columns_to_drop,axis=1)\n",
        "\n",
        "\n",
        "print(df.shape)\n",
        "\n",
        "data = df\n",
        "X = data.drop('FT%', axis=1)\n",
        "y = data['FT%']\n",
        "X_train, X_test, y_train, y_test = train_test_split(X, y, test_size=0.2, random_state=42)\n",
        "'''"
      ]
    },
    {
      "cell_type": "markdown",
      "metadata": {
        "id": "HG7dEg1U8PzR"
      },
      "source": [
        "2OF% For Bigs\n",
        "\n"
      ]
    },
    {
      "cell_type": "code",
      "execution_count": 34,
      "metadata": {
        "colab": {
          "base_uri": "https://localhost:8080/"
        },
        "id": "XmgeV2Ef8XxV",
        "outputId": "c377b6ff-ee91-4dfe-b64a-472156707e4b"
      },
      "outputs": [
        {
          "data": {
            "text/plain": [
              "\"\\ndf = df[df['2OFA'] >= 100]\\ndf = df[df['2OFA'] >= 0.7 * (df['2OFA'] + df['3OFA'])] #bigs\\n\\n\\ncolumns_to_drop = ['F-M', 'F-A', 'F%','IS-M', 'IS-A', 'IS%',\\n        'MR-M', 'MR-A', 'MR%', '3P-M', '3P-A', '3P%', 'DR-M', 'DR-A',\\n       'DR%', 'FTM', 'FTA', 'FT%', 'RebP', 'Ast', 'Stl', 'Blk', '2OFM', '2OFA',\\n        '3OFM', '3OFA', '3OF%', 'TO', 'PF', 'DQ', 'FD']\\n\\n\\n\\ndf = df.drop(columns_to_drop,axis=1)\\n\\nprint(df.shape)\\n\\ndata = df\\nX = data.drop('2OF%', axis=1)\\ny = data['2OF%']\\nX_train, X_test, y_train, y_test = train_test_split(X, y, test_size=0.2, random_state=42)\\n\""
            ]
          },
          "execution_count": 34,
          "metadata": {},
          "output_type": "execute_result"
        }
      ],
      "source": [
        "'''\n",
        "df = df[df['2OFA'] >= 100]\n",
        "df = df[df['2OFA'] >= 0.7 * (df['2OFA'] + df['3OFA'])] #bigs\n",
        "\n",
        "\n",
        "columns_to_drop = ['F-M', 'F-A', 'F%','IS-M', 'IS-A', 'IS%',\n",
        "        'MR-M', 'MR-A', 'MR%', '3P-M', '3P-A', '3P%', 'DR-M', 'DR-A',\n",
        "       'DR%', 'FTM', 'FTA', 'FT%', 'RebP', 'Ast', 'Stl', 'Blk', '2OFM', '2OFA',\n",
        "        '3OFM', '3OFA', '3OF%', 'TO', 'PF', 'DQ', 'FD']\n",
        "\n",
        "\n",
        "\n",
        "df = df.drop(columns_to_drop,axis=1)\n",
        "\n",
        "print(df.shape)\n",
        "\n",
        "data = df\n",
        "X = data.drop('2OF%', axis=1)\n",
        "y = data['2OF%']\n",
        "X_train, X_test, y_train, y_test = train_test_split(X, y, test_size=0.2, random_state=42)\n",
        "'''"
      ]
    },
    {
      "cell_type": "markdown",
      "metadata": {
        "id": "NsOdN8ZW1A8j"
      },
      "source": [
        "2OF% For Perimeter Player"
      ]
    },
    {
      "cell_type": "code",
      "execution_count": 35,
      "metadata": {
        "colab": {
          "base_uri": "https://localhost:8080/",
          "height": 145
        },
        "id": "eJxQDDdvyTTb",
        "outputId": "163e9e2b-4c75-447c-ac61-9102d8fb83dc"
      },
      "outputs": [
        {
          "data": {
            "text/plain": [
              "\"\\ndf = df[df['3OFA'] >= 0.4 * (df['2OFA'] + df['3OFA'])]\\ndf = df[df['2OFA'] >= 100]\\ncolumns_to_drop = ['F-M', 'F-A', 'F%','IS-M', 'IS-A', 'IS%',\\n        'MR-M', 'MR-A', 'MR%', '3P-M', '3P-A', '3P%', 'DR-M', 'DR-A',\\n       'DR%', 'FTM', 'FTA', 'FT%', 'RebP', 'Ast', 'Stl', 'Blk', '2OFM', '2OFA',\\n        '3OFM', '3OFA', '3OF%', 'TO', 'PF', 'DQ', 'FD']\\n\\n\\n\\ndf = df.drop(columns_to_drop,axis=1)\\n\\nprint(df.shape)\\n\\ndata = df\\nX = data.drop('2OF%', axis=1)\\ny = data['2OF%']\\nX_train, X_test, y_train, y_test = train_test_split(X, y, test_size=0.2, random_state=42)\\n\""
            ]
          },
          "execution_count": 35,
          "metadata": {},
          "output_type": "execute_result"
        }
      ],
      "source": [
        "'''\n",
        "df = df[df['3OFA'] >= 0.4 * (df['2OFA'] + df['3OFA'])]\n",
        "df = df[df['2OFA'] >= 100]\n",
        "columns_to_drop = ['F-M', 'F-A', 'F%','IS-M', 'IS-A', 'IS%',\n",
        "        'MR-M', 'MR-A', 'MR%', '3P-M', '3P-A', '3P%', 'DR-M', 'DR-A',\n",
        "       'DR%', 'FTM', 'FTA', 'FT%', 'RebP', 'Ast', 'Stl', 'Blk', '2OFM', '2OFA',\n",
        "        '3OFM', '3OFA', '3OF%', 'TO', 'PF', 'DQ', 'FD']\n",
        "\n",
        "\n",
        "\n",
        "df = df.drop(columns_to_drop,axis=1)\n",
        "\n",
        "print(df.shape)\n",
        "\n",
        "data = df\n",
        "X = data.drop('2OF%', axis=1)\n",
        "y = data['2OF%']\n",
        "X_train, X_test, y_train, y_test = train_test_split(X, y, test_size=0.2, random_state=42)\n",
        "'''"
      ]
    },
    {
      "cell_type": "markdown",
      "metadata": {
        "id": "RFKlO2Gs8fAy"
      },
      "source": [
        "3OF% for Guards"
      ]
    },
    {
      "cell_type": "code",
      "execution_count": 36,
      "metadata": {
        "colab": {
          "base_uri": "https://localhost:8080/",
          "height": 145
        },
        "id": "rt8X7nMv8juG",
        "outputId": "de288e68-9329-4203-8303-91d3eb137d12"
      },
      "outputs": [
        {
          "data": {
            "text/plain": [
              "\"\\ndf = df[df['2OFA'] >= 100]\\ndf = df[df['3OFA'] >= 0.4 * (df['2OFA'] + df['3OFA'])] #Guards\\n\\n\\ncolumns_to_drop = ['F-M', 'F-A', 'F%','IS-M', 'IS-A', 'IS%',\\n        'MR-M', 'MR-A', 'MR%', '3P-M', '3P-A', '3P%', 'DR-M', 'DR-A',\\n       'DR%', 'FTM', 'FTA', 'FT%', 'RebP', 'Ast', 'Stl', 'Blk', '2OFM', '2OFA', '2OF%',\\n        '3OFM', '3OFA', 'TO', 'PF', 'DQ', 'FD']\\n\\n\\n\\ndf = df.drop(columns_to_drop,axis=1)\\n\\n\\nprint(df.shape)\\n\\ndata = df\\nX = data.drop('3OF%', axis=1)\\ny = data['3OF%']\\nX_train, X_test, y_train, y_test = train_test_split(X, y, test_size=0.2, random_state=42)\\n\""
            ]
          },
          "execution_count": 36,
          "metadata": {},
          "output_type": "execute_result"
        }
      ],
      "source": [
        "'''\n",
        "df = df[df['2OFA'] >= 100]\n",
        "df = df[df['3OFA'] >= 0.4 * (df['2OFA'] + df['3OFA'])] #Guards\n",
        "\n",
        "\n",
        "columns_to_drop = ['F-M', 'F-A', 'F%','IS-M', 'IS-A', 'IS%',\n",
        "        'MR-M', 'MR-A', 'MR%', '3P-M', '3P-A', '3P%', 'DR-M', 'DR-A',\n",
        "       'DR%', 'FTM', 'FTA', 'FT%', 'RebP', 'Ast', 'Stl', 'Blk', '2OFM', '2OFA', '2OF%',\n",
        "        '3OFM', '3OFA', 'TO', 'PF', 'DQ', 'FD']\n",
        "\n",
        "\n",
        "\n",
        "df = df.drop(columns_to_drop,axis=1)\n",
        "\n",
        "\n",
        "print(df.shape)\n",
        "\n",
        "data = df\n",
        "X = data.drop('3OF%', axis=1)\n",
        "y = data['3OF%']\n",
        "X_train, X_test, y_train, y_test = train_test_split(X, y, test_size=0.2, random_state=42)\n",
        "'''"
      ]
    },
    {
      "cell_type": "markdown",
      "metadata": {
        "id": "iRHueTQVB0Ej"
      },
      "source": [
        "Rebounds Per Games (For Bigs)"
      ]
    },
    {
      "cell_type": "code",
      "execution_count": 37,
      "metadata": {
        "colab": {
          "base_uri": "https://localhost:8080/",
          "height": 164
        },
        "id": "rr3NGRSn--KF",
        "outputId": "4e0e9e3a-d312-4945-8317-f9e592233655"
      },
      "outputs": [
        {
          "data": {
            "text/plain": [
              "\"\\n#df = df[df['2OFA'] >= 0.7 * (df['2OFA'] + df['3OFA'])] #Bigs\\ndf = df[df['3OFA'] >= 0.4 * (df['2OFA'] + df['3OFA'])] #Guards\\ndf = df[df['2OFA'] >= 100]\\n\\ncolumns_to_drop = ['F-M', 'F-A', 'F%','IS-M', 'IS-A', 'IS%',\\n        'MR-M', 'MR-A', 'MR%', '3P-M', '3P-A', '3P%', 'DR-M', 'DR-A',\\n       'DR%', 'FTM', 'FTA', 'FT%', 'Ast', 'Stl', 'Blk', '2OFM', '2OFA', '2OF%',\\n        '3OFM', '3OFA', '3OF%', 'TO', 'PF', 'DQ', 'FD']\\n\\n\\n\\ndf = df.drop(columns_to_drop,axis=1)\\n\\nprint(df.shape)\\n\\ndata = df\\nX = data.drop('RebP', axis=1)\\ny = data['RebP']\\nX_train, X_test, y_train, y_test = train_test_split(X, y, test_size=0.2, random_state=42)\\n\""
            ]
          },
          "execution_count": 37,
          "metadata": {},
          "output_type": "execute_result"
        }
      ],
      "source": [
        "'''\n",
        "#df = df[df['2OFA'] >= 0.7 * (df['2OFA'] + df['3OFA'])] #Bigs\n",
        "df = df[df['3OFA'] >= 0.4 * (df['2OFA'] + df['3OFA'])] #Guards\n",
        "df = df[df['2OFA'] >= 100]\n",
        "\n",
        "columns_to_drop = ['F-M', 'F-A', 'F%','IS-M', 'IS-A', 'IS%',\n",
        "        'MR-M', 'MR-A', 'MR%', '3P-M', '3P-A', '3P%', 'DR-M', 'DR-A',\n",
        "       'DR%', 'FTM', 'FTA', 'FT%', 'Ast', 'Stl', 'Blk', '2OFM', '2OFA', '2OF%',\n",
        "        '3OFM', '3OFA', '3OF%', 'TO', 'PF', 'DQ', 'FD']\n",
        "\n",
        "\n",
        "\n",
        "df = df.drop(columns_to_drop,axis=1)\n",
        "\n",
        "print(df.shape)\n",
        "\n",
        "data = df\n",
        "X = data.drop('RebP', axis=1)\n",
        "y = data['RebP']\n",
        "X_train, X_test, y_train, y_test = train_test_split(X, y, test_size=0.2, random_state=42)\n",
        "'''"
      ]
    },
    {
      "cell_type": "markdown",
      "metadata": {
        "id": "15s8eknRDbNe"
      },
      "source": [
        "Assists Per Game (for Perimeter Players (Mostly PGS))"
      ]
    },
    {
      "cell_type": "code",
      "execution_count": 38,
      "metadata": {
        "colab": {
          "base_uri": "https://localhost:8080/",
          "height": 164
        },
        "id": "UYcYrfPcCLNf",
        "outputId": "b5fbb32f-6a1b-426f-c705-0b113e3bb5bd"
      },
      "outputs": [
        {
          "data": {
            "text/plain": [
              "\"\\ndf = df[df['2OFA'] > 100]\\n#df = df[df['3OFA'] >= 0.4 * (df['2OFA'] + df['3OFA'])] #guards\\ndf = df[df['2OFA'] >= 0.7 * (df['2OFA'] + df['3OFA'])] #bigs\\n\\ncolumns_to_drop = ['F-M', 'F-A', 'F%','IS-M', 'IS-A', 'IS%',\\n        'MR-M', 'MR-A', 'MR%', '3P-M', '3P-A', '3P%', 'DR-M', 'DR-A',\\n       'DR%', 'FTM', 'FTA', 'FT%', 'RebP', 'Stl', 'Blk', '2OFM', '2OFA', '2OF%',\\n        '3OFM', '3OFA', '3OF%', 'TO', 'PF', 'DQ', 'FD']\\n\\n\\n\\ndf = df.drop(columns_to_drop,axis=1)\\n\\n\\nprint(df.shape)\\n\\ndata = df\\nX = data.drop('Ast', axis=1)\\ny = data['Ast']\\nX_train, X_test, y_train, y_test = train_test_split(X, y, test_size=0.2, random_state=42)\\n\""
            ]
          },
          "execution_count": 38,
          "metadata": {},
          "output_type": "execute_result"
        }
      ],
      "source": [
        "'''\n",
        "df = df[df['2OFA'] > 100]\n",
        "#df = df[df['3OFA'] >= 0.4 * (df['2OFA'] + df['3OFA'])] #guards\n",
        "df = df[df['2OFA'] >= 0.7 * (df['2OFA'] + df['3OFA'])] #bigs\n",
        "\n",
        "columns_to_drop = ['F-M', 'F-A', 'F%','IS-M', 'IS-A', 'IS%',\n",
        "        'MR-M', 'MR-A', 'MR%', '3P-M', '3P-A', '3P%', 'DR-M', 'DR-A',\n",
        "       'DR%', 'FTM', 'FTA', 'FT%', 'RebP', 'Stl', 'Blk', '2OFM', '2OFA', '2OF%',\n",
        "        '3OFM', '3OFA', '3OF%', 'TO', 'PF', 'DQ', 'FD']\n",
        "\n",
        "\n",
        "\n",
        "df = df.drop(columns_to_drop,axis=1)\n",
        "\n",
        "\n",
        "print(df.shape)\n",
        "\n",
        "data = df\n",
        "X = data.drop('Ast', axis=1)\n",
        "y = data['Ast']\n",
        "X_train, X_test, y_train, y_test = train_test_split(X, y, test_size=0.2, random_state=42)\n",
        "'''"
      ]
    },
    {
      "cell_type": "markdown",
      "metadata": {
        "id": "cajXzAW-Dibb"
      },
      "source": [
        "Steals per Game"
      ]
    },
    {
      "cell_type": "code",
      "execution_count": 39,
      "metadata": {
        "colab": {
          "base_uri": "https://localhost:8080/",
          "height": 164
        },
        "id": "dMv6hWYYDnSE",
        "outputId": "66565447-a402-4b18-d1b3-25b46f1de4a7"
      },
      "outputs": [
        {
          "data": {
            "text/plain": [
              "\"\\ndf = df[df['2OFA'] >= 0.7 * (df['2OFA'] + df['3OFA'])] #For Bigs\\n#df = df[df['3OFA'] >= 0.4 * (df['2OFA'] + df['3OFA'])] #For Guards\\n\\ndf = df[df['2OFA'] >= 100] #Filters for players who play a decent amount per game\\ncolumns_to_drop = ['F-M', 'F-A', 'F%','IS-M', 'IS-A', 'IS%',\\n        'MR-M', 'MR-A', 'MR%', '3P-M', '3P-A', '3P%', 'DR-M', 'DR-A',\\n       'DR%', 'FTM', 'FTA', 'FT%', 'RebP', 'Ast', 'Blk', '2OFM', '2OFA', '2OF%',\\n        '3OFM', '3OFA', '3OF%', 'TO', 'PF', 'DQ', 'FD']\\n\\n\\n\\ndf = df.drop(columns_to_drop,axis=1)\\n\\n\\nprint(df.shape)\\n\\ndata = df\\nX = data.drop('Stl', axis=1)\\ny = data['Stl']\\nX_train, X_test, y_train, y_test = train_test_split(X, y, test_size=0.2, random_state=42)\\n\""
            ]
          },
          "execution_count": 39,
          "metadata": {},
          "output_type": "execute_result"
        }
      ],
      "source": [
        "'''\n",
        "df = df[df['2OFA'] >= 0.7 * (df['2OFA'] + df['3OFA'])] #For Bigs\n",
        "#df = df[df['3OFA'] >= 0.4 * (df['2OFA'] + df['3OFA'])] #For Guards\n",
        "\n",
        "df = df[df['2OFA'] >= 100] #Filters for players who play a decent amount per game\n",
        "columns_to_drop = ['F-M', 'F-A', 'F%','IS-M', 'IS-A', 'IS%',\n",
        "        'MR-M', 'MR-A', 'MR%', '3P-M', '3P-A', '3P%', 'DR-M', 'DR-A',\n",
        "       'DR%', 'FTM', 'FTA', 'FT%', 'RebP', 'Ast', 'Blk', '2OFM', '2OFA', '2OF%',\n",
        "        '3OFM', '3OFA', '3OF%', 'TO', 'PF', 'DQ', 'FD']\n",
        "\n",
        "\n",
        "\n",
        "df = df.drop(columns_to_drop,axis=1)\n",
        "\n",
        "\n",
        "print(df.shape)\n",
        "\n",
        "data = df\n",
        "X = data.drop('Stl', axis=1)\n",
        "y = data['Stl']\n",
        "X_train, X_test, y_train, y_test = train_test_split(X, y, test_size=0.2, random_state=42)\n",
        "'''"
      ]
    },
    {
      "cell_type": "markdown",
      "metadata": {
        "id": "mEiQGGeIHGyJ"
      },
      "source": [
        "Blocks Per Game"
      ]
    },
    {
      "cell_type": "code",
      "execution_count": 40,
      "metadata": {
        "colab": {
          "base_uri": "https://localhost:8080/",
          "height": 164
        },
        "id": "cS1HyNJ4HIZw",
        "outputId": "ef2a28ae-ba5d-4718-e98e-c2a4e0c6312f"
      },
      "outputs": [
        {
          "data": {
            "text/plain": [
              "\"\\n#df = df[df['2OFA'] >= 0.7 * (df['2OFA'] + df['3OFA'])] #bigs\\ndf = df[df['3OFA'] >= 0.4 * (df['2OFA'] + df['3OFA'])] #For Guards\\n\\ndf = df[df['2OFA'] > 100]\\ncolumns_to_drop = ['F-M', 'F-A', 'F%','IS-M', 'IS-A', 'IS%',\\n        'MR-M', 'MR-A', 'MR%', '3P-M', '3P-A', '3P%', 'DR-M', 'DR-A',\\n       'DR%', 'FTM', 'FTA', 'FT%', 'RebP','Ast', 'Stl', '2OFM', '2OFA', '2OF%',\\n        '3OFM', '3OFA', '3OF%', 'TO', 'PF', 'DQ', 'FD']\\n\\n\\n\\ndf = df.drop(columns_to_drop,axis=1)\\n\\n\\nprint(df.shape)\\n\\ndata = df\\nX = data.drop('Blk', axis=1)\\ny = data['Blk']\\nX_train, X_test, y_train, y_test = train_test_split(X, y, test_size=0.2, random_state=42)\\n\""
            ]
          },
          "execution_count": 40,
          "metadata": {},
          "output_type": "execute_result"
        }
      ],
      "source": [
        "'''\n",
        "df = df[df['2OFA'] >= 0.7 * (df['2OFA'] + df['3OFA'])] #bigs\n",
        "#df = df[df['3OFA'] >= 0.4 * (df['2OFA'] + df['3OFA'])] #For Guards\n",
        "\n",
        "df = df[df['2OFA'] > 100]\n",
        "columns_to_drop = ['F-M', 'F-A', 'F%','IS-M', 'IS-A', 'IS%',\n",
        "        'MR-M', 'MR-A', 'MR%', '3P-M', '3P-A', '3P%', 'DR-M', 'DR-A',\n",
        "       'DR%', 'FTM', 'FTA', 'FT%', 'RebP','Ast', 'Stl', '2OFM', '2OFA', '2OF%',\n",
        "        '3OFM', '3OFA', '3OF%', 'TO', 'PF', 'DQ', 'FD']\n",
        "\n",
        "\n",
        "\n",
        "df = df.drop(columns_to_drop,axis=1)\n",
        "\n",
        "\n",
        "print(df.shape)\n",
        "\n",
        "data = df\n",
        "X = data.drop('Blk', axis=1)\n",
        "y = data['Blk']\n",
        "X_train, X_test, y_train, y_test = train_test_split(X, y, test_size=0.2, random_state=42)\n",
        "'''\n"
      ]
    },
    {
      "cell_type": "markdown",
      "metadata": {
        "id": "Sbx0GyPZJHcL"
      },
      "source": [
        "Fouls Drawn Per Game"
      ]
    },
    {
      "cell_type": "code",
      "execution_count": 41,
      "metadata": {
        "colab": {
          "base_uri": "https://localhost:8080/",
          "height": 164
        },
        "id": "2ddRIuALJQXh",
        "outputId": "d0a42d60-9fac-4bec-bc5f-0b2956bfd027"
      },
      "outputs": [
        {
          "data": {
            "text/plain": [
              "\"\\n#df = df[df['2OFA'] >= 0.7 * (df['2OFA'] + df['3OFA'])] #For Bigs\\ndf = df[df['3OFA'] >= 0.4 * (df['2OFA'] + df['3OFA'])] #For Guards\\ndf = df[df['2OFA'] > 100]\\ncolumns_to_drop = ['F-M', 'F-A', 'F%','IS-M', 'IS-A', 'IS%',\\n        'MR-M', 'MR-A', 'MR%', '3P-M', '3P-A', '3P%', 'DR-M', 'DR-A',\\n       'DR%', 'FTM', 'FTA', 'FT%', 'RebP','Ast', 'Stl','Blk', '2OFM', '2OFA', '2OF%',\\n        '3OFM', '3OFA', '3OF%', 'TO', 'PF', 'DQ']\\n\\n\\n\\ndf = df.drop(columns_to_drop,axis=1)\\n\\n\\nprint(df.shape)\\n\\ndata = df\\nX = data.drop('FD', axis=1)\\ny = data['FD']\\nX_train, X_test, y_train, y_test = train_test_split(X, y, test_size=0.2, random_state=42)\\n\""
            ]
          },
          "execution_count": 41,
          "metadata": {},
          "output_type": "execute_result"
        }
      ],
      "source": [
        "'''\n",
        "#df = df[df['2OFA'] >= 0.7 * (df['2OFA'] + df['3OFA'])] #For Bigs\n",
        "df = df[df['3OFA'] >= 0.4 * (df['2OFA'] + df['3OFA'])] #For Guards\n",
        "df = df[df['2OFA'] > 100]\n",
        "columns_to_drop = ['F-M', 'F-A', 'F%','IS-M', 'IS-A', 'IS%',\n",
        "        'MR-M', 'MR-A', 'MR%', '3P-M', '3P-A', '3P%', 'DR-M', 'DR-A',\n",
        "       'DR%', 'FTM', 'FTA', 'FT%', 'RebP','Ast', 'Stl','Blk', '2OFM', '2OFA', '2OF%',\n",
        "        '3OFM', '3OFA', '3OF%', 'TO', 'PF', 'DQ']\n",
        "\n",
        "\n",
        "\n",
        "df = df.drop(columns_to_drop,axis=1)\n",
        "\n",
        "\n",
        "print(df.shape)\n",
        "\n",
        "data = df\n",
        "X = data.drop('FD', axis=1)\n",
        "y = data['FD']\n",
        "X_train, X_test, y_train, y_test = train_test_split(X, y, test_size=0.2, random_state=42)\n",
        "'''"
      ]
    },
    {
      "cell_type": "markdown",
      "metadata": {
        "id": "kYwIbSNLomcs"
      },
      "source": [
        "Linear Regression Model\n"
      ]
    },
    {
      "cell_type": "code",
      "execution_count": 42,
      "metadata": {
        "colab": {
          "base_uri": "https://localhost:8080/"
        },
        "id": "TZdjKZZQhrw7",
        "outputId": "5300a0fb-39e0-40cf-e74e-7eaf16f44bbe"
      },
      "outputs": [
        {
          "name": "stdout",
          "output_type": "stream",
          "text": [
            "R2 Score: 0.43725335412890287\n"
          ]
        }
      ],
      "source": [
        "\n",
        "scaler = StandardScaler()\n",
        "X_train_scaled = scaler.fit_transform(X_train)\n",
        "X_test_scaled = scaler.transform(X_test)\n",
        "\n",
        "# Apply PCA\n",
        "pca = PCA(n_components=0.95)  # Retain 95% of variance\n",
        "X_train_pca = pca.fit_transform(X_train_scaled)\n",
        "X_test_pca = pca.transform(X_test_scaled)\n",
        "\n",
        "\n",
        "\n",
        "model = Ridge()\n",
        "model.fit(X_train_pca, y_train)\n",
        "\n",
        "# Retrieve the coefficients from the Ridge model\n",
        "coefficients = model.coef_\n",
        "#print(\"Coefficients:\", coefficients)\n",
        "\n",
        "# Make predictions and evaluate\n",
        "from sklearn.metrics import mean_squared_error, r2_score\n",
        "\n",
        "y_pred = model.predict(X_test_pca)\n",
        "\n",
        "print(\"R2 Score:\", r2_score(y_test, y_pred))"
      ]
    },
    {
      "cell_type": "code",
      "execution_count": 43,
      "metadata": {
        "colab": {
          "base_uri": "https://localhost:8080/"
        },
        "id": "xuPnrm9GlNl8",
        "outputId": "d00b440f-4a5a-4fd9-a3ee-6a37f412d89f"
      },
      "outputs": [
        {
          "name": "stdout",
          "output_type": "stream",
          "text": [
            "   Weight  IS  OS  Rng  Fin  Reb  IDef  PDef  IQ  Pass  Hnd  Drv  Str  Spd  \\\n",
            "0     225  15   7   11    7   10     9     6   6     6    8   10    8   13   \n",
            "1     210   8   6   10    6   15    10     3   5     8    5    5    6    3   \n",
            "2     215   8   8    8    9    7     6     6  13     5    8   10    7   12   \n",
            "3     255   7   7    9    5   13     7     8  15     9    7   10    7   10   \n",
            "4     245  10  12   10   11   13     5     8  15     9   10    5   12    8   \n",
            "\n",
            "   Sta  Wingspan_inches  Height_inches  Vertical_float  Actual  Predicted  \n",
            "0   10            87.25           82.0            31.0    0.55   0.593801  \n",
            "1    7            86.00           81.5            31.5    0.55   0.543590  \n",
            "2   13            83.25           78.0            30.5    0.50   0.530748  \n",
            "3    8            87.00           83.5            23.5    0.63   0.567888  \n",
            "4    7            85.00           79.5            32.0    0.57   0.581696  \n"
          ]
        }
      ],
      "source": [
        "import pandas as pd\n",
        "\n",
        "# Create a DataFrame with actual and predicted values\n",
        "results = pd.DataFrame({\n",
        "    'Actual': y_test,\n",
        "    'Predicted': y_pred\n",
        "})\n",
        "\n",
        "# Optionally, you can reset the index to make it easier to read\n",
        "results = results.reset_index(drop=True)\n",
        "\n",
        "# Display the DataFrame\n",
        "#print(results.head())  # Shows the first few rows of the DataFrame\n",
        "\n",
        "# Create a DataFrame with actual features from X_test\n",
        "results = pd.DataFrame(X_test)\n",
        "\n",
        "# Add actual and predicted values to this DataFrame\n",
        "results['Actual'] = y_test\n",
        "results['Predicted'] = y_pred\n",
        "\n",
        "# Reset the index to align the actual and predicted values with their corresponding features\n",
        "results = results.reset_index(drop=True)\n",
        "\n",
        "# Display the DataFrame\n",
        "print(results.head())  # Shows the first few rows of the DataFrame\n",
        "\n",
        "\n",
        "\n",
        "\n"
      ]
    },
    {
      "cell_type": "code",
      "execution_count": 44,
      "metadata": {
        "colab": {
          "base_uri": "https://localhost:8080/"
        },
        "id": "ci1dwVdvHAYj",
        "outputId": "89d74c20-a46f-40e5-d869-1e9f933c7e31"
      },
      "outputs": [
        {
          "name": "stdout",
          "output_type": "stream",
          "text": [
            "   Principal Component  Coefficient\n",
            "1                  PC2     0.019557\n",
            "3                  PC4     0.012929\n",
            "5                  PC6     0.008513\n",
            "14                PC15     0.005446\n",
            "2                  PC3    -0.004075\n",
            "12                PC13     0.004051\n",
            "6                  PC7     0.003776\n",
            "9                 PC10     0.003456\n",
            "13                PC14     0.003015\n",
            "8                  PC9     0.002789\n",
            "10                PC11     0.001697\n",
            "4                  PC5    -0.001188\n",
            "11                PC12    -0.000815\n",
            "7                  PC8     0.000651\n",
            "0                  PC1    -0.000124\n"
          ]
        }
      ],
      "source": [
        "\n",
        "import pandas as pd\n",
        "\n",
        "# Retrieve the coefficients from the model\n",
        "coefficients = model.coef_\n",
        "\n",
        "# Create a DataFrame for principal components and their corresponding coefficients\n",
        "pca_features = [f'PC{i+1}' for i in range(len(coefficients))]\n",
        "coef_df = pd.DataFrame({'Principal Component': pca_features, 'Coefficient': coefficients})\n",
        "\n",
        "# Sort the DataFrame by the absolute values of coefficients in descending order\n",
        "coef_df = coef_df.reindex(coef_df.Coefficient.abs().sort_values(ascending=False).index)\n",
        "\n",
        "# Display the DataFrame\n",
        "print(coef_df)\n"
      ]
    },
    {
      "cell_type": "code",
      "execution_count": 45,
      "metadata": {
        "colab": {
          "base_uri": "https://localhost:8080/"
        },
        "id": "uxOVbMPgQk8v",
        "outputId": "eaed3cc0-26f0-4116-d81d-47932c11036b"
      },
      "outputs": [
        {
          "data": {
            "text/plain": [
              "\"\\nimport statsmodels.api as sm\\n\\n# Add a constant to the model (if it hasn't been added)\\nX_train_sm = sm.add_constant(X_train)  # Adds a constant term to the predictor set\\n\\n# Fit the regression model\\nmodel_sm = sm.OLS(y_train, X_train_sm).fit()\\n\\n# Print the summary of the regression\\nprint(model_sm.summary())\\n\""
            ]
          },
          "execution_count": 45,
          "metadata": {},
          "output_type": "execute_result"
        }
      ],
      "source": [
        "'''\n",
        "import statsmodels.api as sm\n",
        "\n",
        "# Add a constant to the model (if it hasn't been added)\n",
        "X_train_sm = sm.add_constant(X_train)  # Adds a constant term to the predictor set\n",
        "\n",
        "# Fit the regression model\n",
        "model_sm = sm.OLS(y_train, X_train_sm).fit()\n",
        "\n",
        "# Print the summary of the regression\n",
        "print(model_sm.summary())\n",
        "'''"
      ]
    },
    {
      "cell_type": "code",
      "execution_count": 46,
      "metadata": {
        "colab": {
          "base_uri": "https://localhost:8080/"
        },
        "id": "HCOJHhu4HQ7A",
        "outputId": "6d26a5e7-8164-4e68-e7ef-34326f362ec7"
      },
      "outputs": [
        {
          "name": "stdout",
          "output_type": "stream",
          "text": [
            "Highest Actual Value Row:\n",
            "     Weight  IS  OS  Rng  Fin  Reb  IDef  PDef  IQ  Pass  Hnd  Drv  Str  Spd  \\\n",
            "311     235   8   7    9   11   10     5     4  13     9   11    6    8    6   \n",
            "\n",
            "     Sta  Wingspan_inches  Height_inches  Vertical_float  Actual  Predicted  \n",
            "311    7             88.0           82.5            34.5    0.71   0.585629  \n",
            "\n",
            "Lowest Actual Value Row:\n",
            "    Weight  IS  OS  Rng  Fin  Reb  IDef  PDef  IQ  Pass  Hnd  Drv  Str  Spd  \\\n",
            "16     220   5   0    8    6   12    10     2   1     6    2    3    1    4   \n",
            "\n",
            "    Sta  Wingspan_inches  Height_inches  Vertical_float  Actual  Predicted  \n",
            "16    4            85.25           80.5            30.0    0.35   0.508512  \n",
            "\n",
            "Highest Predicted Value Row:\n",
            "     Weight  IS  OS  Rng  Fin  Reb  IDef  PDef  IQ  Pass  Hnd  Drv  Str  Spd  \\\n",
            "118     250  15  11    9    8    9    11     4  14     9    8    6   14   10   \n",
            "\n",
            "     Sta  Wingspan_inches  Height_inches  Vertical_float  Actual  Predicted  \n",
            "118   10            87.25           85.0            45.5    0.63   0.673505  \n",
            "\n",
            "Lowest Predicted Value Row:\n",
            "   Weight  IS  OS  Rng  Fin  Reb  IDef  PDef  IQ  Pass  Hnd  Drv  Str  Spd  \\\n",
            "8     175   5   4    4    4    5     5     3   9     7    3    5    2    8   \n",
            "\n",
            "   Sta  Wingspan_inches  Height_inches  Vertical_float  Actual  Predicted  \n",
            "8    8             76.0           75.0            26.0     0.4   0.418632  \n"
          ]
        }
      ],
      "source": [
        "import pandas as pd\n",
        "\n",
        "# Assuming 'results' is already defined and includes 'Actual' and 'Predicted' columns\n",
        "\n",
        "# Sort by 'Actual' in descending order and get the highest actual value row\n",
        "highest_actual = results.sort_values(by='Actual', ascending=False).head(1)\n",
        "\n",
        "# Sort by 'Actual' in ascending order and get the lowest actual value row\n",
        "lowest_actual = results.sort_values(by='Actual', ascending=True).head(1)\n",
        "\n",
        "# Sort by 'Predicted' in descending order and get the highest predicted value row\n",
        "highest_predicted = results.sort_values(by='Predicted', ascending=False).head(1)\n",
        "\n",
        "# Sort by 'Predicted' in ascending order and get the lowest predicted value row\n",
        "lowest_predicted = results.sort_values(by='Predicted', ascending=True).head(1)\n",
        "\n",
        "# Print the results\n",
        "print(\"Highest Actual Value Row:\")\n",
        "print(highest_actual)\n",
        "\n",
        "print(\"\\nLowest Actual Value Row:\")\n",
        "print(lowest_actual)\n",
        "\n",
        "print(\"\\nHighest Predicted Value Row:\")\n",
        "print(highest_predicted)\n",
        "\n",
        "print(\"\\nLowest Predicted Value Row:\")\n",
        "print(lowest_predicted)\n"
      ]
    },
    {
      "cell_type": "code",
      "execution_count": 47,
      "metadata": {
        "colab": {
          "base_uri": "https://localhost:8080/",
          "height": 573
        },
        "id": "NJe4HoyS0Xq_",
        "outputId": "5b4380e4-2a05-490c-a998-484cfb2b4e73"
      },
      "outputs": [
        {
          "data": {
            "image/png": "[encoded data removed]",
            "text/plain": [
              "<Figure size 800x600 with 1 Axes>"
            ]
          },
          "metadata": {},
          "output_type": "display_data"
        }
      ],
      "source": [
        "import matplotlib.pyplot as plt\n",
        "\n",
        "# Assuming 'results' is already defined and includes 'Actual' and 'Predicted' columns\n",
        "\n",
        "# Create a scatter plot for actual vs. predicted values\n",
        "plt.figure(figsize=(8, 6))\n",
        "plt.scatter(results['Actual'], results['Predicted'], alpha=0.5, color='blue', edgecolor='k')\n",
        "plt.plot([results['Actual'].min(), results['Actual'].max()],\n",
        "         [results['Actual'].min(), results['Actual'].max()], 'r--', lw=2)\n",
        "plt.xlabel('Actual Values')\n",
        "plt.ylabel('Predicted Values')\n",
        "plt.title('Actual vs. Predicted Values')\n",
        "plt.grid(True)\n",
        "plt.show()\n"
      ]
    },
    {
      "cell_type": "code",
      "execution_count": 48,
      "metadata": {
        "colab": {
          "base_uri": "https://localhost:8080/"
        },
        "id": "yZ2uLDOZy-7k",
        "outputId": "f26afffa-3f3e-4cfa-a06b-ba8a4035cbd3"
      },
      "outputs": [
        {
          "name": "stdout",
          "output_type": "stream",
          "text": [
            "                 Contribution    Impact\n",
            "Height_inches        0.011938  Positive\n",
            "Wingspan_inches      0.011735  Positive\n",
            "IS                   0.011711  Positive\n",
            "Vertical_float       0.011579  Positive\n",
            "Weight               0.010715  Positive\n",
            "Reb                  0.004725  Positive\n",
            "Str                  0.003455  Positive\n",
            "Spd                  0.003327  Positive\n",
            "IQ                   0.002617  Positive\n",
            "Sta                  0.002019  Positive\n",
            "OS                   0.001884  Positive\n",
            "PDef                 0.001689  Positive\n",
            "Fin                  0.001320  Positive\n",
            "Drv                  0.000502  Positive\n",
            "Rng                  0.000201  Positive\n",
            "Hnd                  0.000055  Positive\n",
            "IDef                -0.000964  Negative\n",
            "Pass                -0.001184  Negative\n"
          ]
        }
      ],
      "source": [
        "import numpy as np\n",
        "import pandas as pd\n",
        "from sklearn.decomposition import PCA\n",
        "from sklearn.preprocessing import StandardScaler\n",
        "from sklearn.linear_model import Ridge\n",
        "\n",
        "# Assume X and y are defined, and PCA and Ridge regression models have been fitted\n",
        "\n",
        "# Extract PCA loadings\n",
        "loadings = pd.DataFrame(pca.components_.T, columns=[f'PC{i+1}' for i in range(pca.n_components_)], index=X.columns)\n",
        "\n",
        "# Extract Ridge regression coefficients\n",
        "coefficients = model.coef_\n",
        "\n",
        "# Create a DataFrame for feature contributions\n",
        "feature_contributions = pd.DataFrame(index=X.columns)\n",
        "\n",
        "# Calculate contributions by multiplying loadings with model coefficients\n",
        "feature_contributions['Contribution'] = np.dot(loadings, coefficients)\n",
        "\n",
        "# Determine the sign of contributions (positive or negative)\n",
        "feature_contributions['Impact'] = np.where(feature_contributions['Contribution'] > 0, 'Positive', 'Negative')\n",
        "\n",
        "# Sort by the magnitude of contributions\n",
        "feature_contributions = feature_contributions.sort_values(by='Contribution', ascending=False)\n",
        "\n",
        "print(feature_contributions)\n"
      ]
    },
    {
      "cell_type": "code",
      "execution_count": 49,
      "metadata": {
        "colab": {
          "base_uri": "https://localhost:8080/",
          "height": 480
        },
        "id": "aq6eB7hHzBc5",
        "outputId": "5af2efd1-eb2c-4296-dd4a-169920f9f977"
      },
      "outputs": [
        {
          "data": {
            "image/png": "[encoded data removed]",
            "text/plain": [
              "<Figure size 1200x800 with 1 Axes>"
            ]
          },
          "metadata": {},
          "output_type": "display_data"
        }
      ],
      "source": [
        "import matplotlib.pyplot as plt\n",
        "import seaborn as sns\n",
        "\n",
        "# Plotting feature contributions\n",
        "plt.figure(figsize=(12, 8))\n",
        "sns.barplot(x=feature_contributions['Contribution'], y=feature_contributions.index, hue=feature_contributions['Impact'], palette='coolwarm')\n",
        "plt.title('Feature Impact on Driving%')\n",
        "plt.xlabel('Contribution Value')\n",
        "plt.ylabel('Features')\n",
        "plt.grid(True)\n",
        "plt.show()\n"
      ]
    },
    {
      "cell_type": "markdown",
      "metadata": {
        "id": "XI4lRVKdo0Qr"
      },
      "source": []
    }
  ],
  "metadata": {
    "colab": {
      "provenance": []
    },
    "kernelspec": {
      "display_name": "Python 3",
      "name": "python3"
    },
    "language_info": {
      "codemirror_mode": {
        "name": "ipython",
        "version": 3
      },
      "file_extension": ".py",
      "mimetype": "text/x-python",
      "name": "python",
      "nbconvert_exporter": "python",
      "pygments_lexer": "ipython3",
      "version": "3.10.11"
    }
  },
  "nbformat": 4,
  "nbformat_minor": 0
}
