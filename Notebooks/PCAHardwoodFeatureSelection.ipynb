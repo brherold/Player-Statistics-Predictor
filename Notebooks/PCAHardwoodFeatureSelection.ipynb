{
  "cells": [
    {
      "cell_type": "code",
      "execution_count": 16,
      "metadata": {
        "colab": {
          "base_uri": "https://localhost:8080/"
        },
        "id": "1lgRBYYdsLd9",
        "outputId": "4c5dd9a2-04f8-4569-bb98-141c85f283af"
      },
      "outputs": [
        {
          "data": {
            "text/plain": [
              "Index(['Weight', 'IS', 'OS', 'Rng', 'Fin', 'Reb', 'IDef', 'PDef', 'IQ', 'Pass',\n",
              "       'Hnd', 'Drv', 'Str', 'Spd', 'Sta', 'F-M', 'F-A', 'F%', 'IS-M', 'IS-A',\n",
              "       'IS%', 'MR-M', 'MR-A', 'MR%', '3P-M', '3P-A', '3P%', 'DR-M', 'DR-A',\n",
              "       'DR%', 'FTM', 'FTA', 'FT%', 'RebP', 'Ast', 'Stl', 'Blk', '2OFM', '2OFA',\n",
              "       '2OF%', '3OFM', '3OFA', '3OF%', 'TO', 'PF', 'DQ', 'FD',\n",
              "       'Wingspan_inches', 'Height_inches', 'Vertical_float'],\n",
              "      dtype='object')"
            ]
          },
          "execution_count": 16,
          "metadata": {},
          "output_type": "execute_result"
        }
      ],
      "source": [
        "import pandas as pd\n",
        "import numpy as np\n",
        "import matplotlib as mpl\n",
        "import matplotlib.pyplot as plt\n",
        "import seaborn as sns; sns.set()\n",
        "\n",
        "from sklearn.model_selection import train_test_split, GridSearchCV\n",
        "from sklearn.preprocessing import OneHotEncoder\n",
        "from sklearn.preprocessing import StandardScaler\n",
        "from sklearn.pipeline import make_pipeline\n",
        "from sklearn.model_selection import GridSearchCV,cross_val_score, KFold\n",
        "\n",
        "\n",
        "from sklearn.linear_model import LinearRegression\n",
        "from sklearn.linear_model import Ridge, Lasso\n",
        "from sklearn.tree import DecisionTreeRegressor\n",
        "from sklearn.ensemble import RandomForestRegressor\n",
        "from sklearn.svm import SVR\n",
        "from sklearn.decomposition import PCA\n",
        "\n",
        "\n",
        "from sklearn.metrics import mean_squared_error, mean_absolute_error, r2_score\n",
        "\n",
        "df = pd.read_csv(\"DataCSVS/cleanedPlayerData41-42.csv\", encoding='latin1')\n",
        "\n",
        "df.head()\n",
        "\n",
        "\n",
        "\n",
        "df.columns"
      ]
    },
    {
      "cell_type": "code",
      "execution_count": 17,
      "metadata": {
        "id": "sq4dLyaxspdW"
      },
      "outputs": [
        {
          "name": "stdout",
          "output_type": "stream",
          "text": [
            "(2393, 19)\n"
          ]
        }
      ],
      "source": [
        "\n",
        "\n",
        "\n",
        "#df = df[df['3OFA'] >= 0.4 * (df['2OFA'] + df['3OFA'])] #For Guards\n",
        "df = df[(df['DR-A'] >= 75)] #attempted ~ 2 3PA a game\n",
        "\n",
        "\n",
        "columns_to_drop = ['F-M', 'F-A', 'F%', 'IS-M', 'IS-A',\n",
        "       'IS%', 'MR-M', 'MR-A', 'MR%', '3P-M', '3P-A', '3P%','DR-M', 'DR-A',\n",
        "        'FTM', 'FTA', 'FT%', 'RebP', 'Ast', 'Stl', 'Blk', '2OFM', '2OFA',\n",
        "       '2OF%', '3OFM', '3OFA', '3OF%', 'TO', 'PF', 'DQ', 'FD']\n",
        "\n",
        "\n",
        "\n",
        "df = df.drop(columns_to_drop,axis=1)\n",
        "\n",
        "\n",
        "print(df.shape)\n",
        "\n",
        "data = df\n",
        "X = data.drop('DR%', axis=1)\n",
        "y = data['DR%']\n",
        "X_train, X_test, y_train, y_test = train_test_split(X, y, test_size=0.2, random_state=42)\n",
        "\n"
      ]
    },
    {
      "cell_type": "code",
      "execution_count": 18,
      "metadata": {},
      "outputs": [
        {
          "name": "stdout",
          "output_type": "stream",
          "text": [
            "R2 Score: 0.07818584846685983\n"
          ]
        }
      ],
      "source": [
        "\n",
        "scaler = StandardScaler()\n",
        "X_train_scaled = scaler.fit_transform(X_train)\n",
        "X_test_scaled = scaler.transform(X_test)\n",
        "\n",
        "# Apply PCA\n",
        "pca = PCA(n_components=0.95)  # Retain 95% of variance\n",
        "X_train_pca = pca.fit_transform(X_train_scaled)\n",
        "X_test_pca = pca.transform(X_test_scaled)\n",
        "\n",
        "\n",
        "\n",
        "model = Ridge()\n",
        "model.fit(X_train_pca, y_train)\n",
        "\n",
        "# Retrieve the coefficients from the Ridge model\n",
        "coefficients = model.coef_\n",
        "#print(\"Coefficients:\", coefficients)\n",
        "\n",
        "# Make predictions and evaluate\n",
        "from sklearn.metrics import mean_squared_error, r2_score\n",
        "\n",
        "y_pred = model.predict(X_test_pca)\n",
        "\n",
        "print(\"R2 Score:\", r2_score(y_test, y_pred))"
      ]
    },
    {
      "cell_type": "code",
      "execution_count": 19,
      "metadata": {
        "colab": {
          "base_uri": "https://localhost:8080/"
        },
        "id": "fkW-PvI5whWi",
        "outputId": "0f9d7b6a-5dac-499a-cb1e-ab1d6d0c013c"
      },
      "outputs": [
        {
          "name": "stdout",
          "output_type": "stream",
          "text": [
            "   Weight  IS  OS  Rng  Fin  Reb  IDef  PDef  IQ  Pass  Hnd  Drv  Str  Spd  \\\n",
            "0     185   8  10   12   11    3     4     7  14     5   10   11    7    6   \n",
            "1     185  10   9    8   14    7    11     6   8    15   10   15    8   16   \n",
            "2     180   9  15    8   12   10     6    16   8    18   17   11   14   15   \n",
            "3     245  10  16    6   14   15    14     7  17    11   11   13   18   12   \n",
            "4     210   6  13   15   13    7    14    10  16     9   15   13   13   13   \n",
            "\n",
            "   Sta  Wingspan_inches  Height_inches  Vertical_float  Actual  Predicted  \n",
            "0    9             83.0           76.5            27.0    0.47   0.456463  \n",
            "1   17             75.0           74.0            26.0    0.52   0.486338  \n",
            "2    7             77.0           72.0            28.5    0.48   0.481714  \n",
            "3   15             83.0           80.5            31.0    0.40   0.477036  \n",
            "4    9             83.0           78.5            31.5    0.50   0.482026  \n"
          ]
        }
      ],
      "source": [
        "\n",
        "import pandas as pd\n",
        "\n",
        "# Create a DataFrame with actual and predicted values\n",
        "results = pd.DataFrame({\n",
        "    'Actual': y_test,\n",
        "    'Predicted': y_pred\n",
        "})\n",
        "\n",
        "# Optionally, you can reset the index to make it easier to read\n",
        "results = results.reset_index(drop=True)\n",
        "\n",
        "# Display the DataFrame\n",
        "#print(results.head())  # Shows the first few rows of the DataFrame\n",
        "\n",
        "# Create a DataFrame with actual features from X_test\n",
        "results = pd.DataFrame(X_test)\n",
        "\n",
        "# Add actual and predicted values to this DataFrame\n",
        "results['Actual'] = y_test\n",
        "results['Predicted'] = y_pred\n",
        "\n",
        "# Reset the index to align the actual and predicted values with their corresponding features\n",
        "results = results.reset_index(drop=True)\n",
        "\n",
        "# Display the DataFrame\n",
        "print(results.head())  # Shows the first few rows of the DataFrame\n",
        "\n",
        "\n",
        "\n",
        "\n"
      ]
    },
    {
      "cell_type": "code",
      "execution_count": 20,
      "metadata": {
        "id": "MWKIUltCzrLj"
      },
      "outputs": [
        {
          "name": "stdout",
          "output_type": "stream",
          "text": [
            "Predicted value: 0.44\n"
          ]
        }
      ],
      "source": [
        "from sklearn.preprocessing import StandardScaler\n",
        "from sklearn.decomposition import PCA\n",
        "from sklearn.linear_model import Ridge\n",
        "from sklearn.feature_selection import RFE\n",
        "from sklearn.model_selection import GridSearchCV\n",
        "from sklearn.metrics import mean_squared_error, r2_score\n",
        "import pandas as pd\n",
        "from pygetPlayerSkills import get_player_info\n",
        "\n",
        "\n",
        "\n",
        "\n",
        "# Assuming scaler, pca, rfe, and best_model are already fitted\n",
        "# and X_train, X_test, y_train, y_test are defined as in the original code\n",
        "\n",
        "# Function to preprocess and predict new data\n",
        "def preprocess_and_predict(player, scaler, pca, model):\n",
        "    # Convert player data to DataFrame\n",
        "    player_df = pd.DataFrame([player])\n",
        "    \n",
        "    # Ensure the DataFrame has the same columns as the training data\n",
        "    expected_columns = X_train.columns  # Columns from the training data\n",
        "    \n",
        "    # Check if player_df contains all required columns\n",
        "    missing_columns = set(expected_columns) - set(player_df.columns)\n",
        "    if missing_columns:\n",
        "        raise ValueError(f\"Missing columns in player data: {missing_columns}\")\n",
        "\n",
        "    # Ensure the DataFrame columns are in the same order as expected\n",
        "    player_df = player_df[expected_columns]\n",
        "\n",
        "    # Apply the same scaling\n",
        "    player_scaled = scaler.transform(player_df)\n",
        "\n",
        "    # Apply PCA\n",
        "    player_pca = pca.transform(player_scaled)\n",
        "\n",
        "    # Apply feature selection\n",
        "    #player_rfe = rfe.transform(player_pca)\n",
        "\n",
        "    # Predict using the best model\n",
        "    prediction = model.predict(player_pca)\n",
        "    \n",
        "    return prediction\n",
        "\n",
        "# Get player information\n",
        "player = get_player_info(\"http://onlinecollegebasketball.org/player/196605\")\n",
        "\n",
        "# Predict using the preprocessed player data\n",
        "new_data_pred = preprocess_and_predict(player, scaler, pca, model)\n",
        "\n",
        "# Print the predictions\n",
        "print(f\"Predicted value: {format(new_data_pred[0], '.2f')}\")\n"
      ]
    }
  ],
  "metadata": {
    "colab": {
      "provenance": []
    },
    "kernelspec": {
      "display_name": "Python 3",
      "name": "python3"
    },
    "language_info": {
      "codemirror_mode": {
        "name": "ipython",
        "version": 3
      },
      "file_extension": ".py",
      "mimetype": "text/x-python",
      "name": "python",
      "nbconvert_exporter": "python",
      "pygments_lexer": "ipython3",
      "version": "3.10.11"
    }
  },
  "nbformat": 4,
  "nbformat_minor": 0
}
